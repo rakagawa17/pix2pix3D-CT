{
 "cells": [
  {
   "cell_type": "code",
   "execution_count": null,
   "metadata": {},
   "outputs": [],
   "source": [
    "import tensorflow as tf\n",
    "import pydicom\n",
    "import numpy as np\n",
    "import os\n",
    "\n",
    "def array(img):\n",
    "    dicom = pydicom.dcmread(img)\n",
    "    dicom_array = dicom.pixel_array * dicom.RescaleSlope + dicom.RescaleIntercept\n",
    "    return dicom_array.astype(np.float32)  # データ型をfloat32に変換\n",
    "\n",
    "def WND(X, W):\n",
    "    R = 255. * (X - W[1] + 0.5 * W[0]) / W[0]\n",
    "    R[R < 0] = 0\n",
    "    R[R > 255] = 255\n",
    "    return R.astype(np.uint8)  # データ型をuint8に変換\n",
    "\n",
    "# DICOMファイルのパス\n",
    "gt_folder = '/Users/ryotaroakagawa/pix2pix3D-CT/dicom/dataset01_test/case0029/CT2/'\n",
    "# gene_folder = '/Users/ryotaroakagawa/pix2pix3D-CT/result/dataset01_test/case0030/dicom/'\n",
    "gene_folder = '/Users/ryotaroakagawa/pix2pix3D-CT/dicom/dataset01_test/case0029/CT1/'\n",
    "# 画像の読み込みと処理\n",
    "gt_files = [gt_folder + f for f in sorted(os.listdir(gt_folder)) if f.endswith('.DCM')]\n",
    "gene_files = [gene_folder + f for f in sorted(os.listdir(gene_folder)) if f.endswith('.DCM')]\n",
    "\n",
    "gt_array = np.stack([array(file) for file in gt_files], axis=-1)  # 3つの次元を持つ画像に変換\n",
    "gene_array = np.stack([array(file) for file in gene_files], axis=-1)  # 3つの次元を持つ画像に変換\n",
    "\n",
    "gt_img = WND(gt_array, [350, 50])\n",
    "gene_img = WND(gene_array, [350, 50])\n",
    "\n",
    "ssim_multiscale = tf.image.ssim_multiscale(gt_img, gene_img, max_val=255.0)\n",
    "\n",
    "print(\"Multiscale SSIM:\", ssim_multiscale.numpy())\n"
   ]
  },
  {
   "cell_type": "code",
   "execution_count": null,
   "metadata": {},
   "outputs": [],
   "source": []
  }
 ],
 "metadata": {
  "kernelspec": {
   "display_name": "base",
   "language": "python",
   "name": "python3"
  },
  "language_info": {
   "codemirror_mode": {
    "name": "ipython",
    "version": 3
   },
   "file_extension": ".py",
   "mimetype": "text/x-python",
   "name": "python",
   "nbconvert_exporter": "python",
   "pygments_lexer": "ipython3",
   "version": "3.9.7"
  },
  "orig_nbformat": 4,
  "vscode": {
   "interpreter": {
    "hash": "ccec245515a0799602d476777b92c9e9656b8fb27302e4e9be0613b23566699c"
   }
  }
 },
 "nbformat": 4,
 "nbformat_minor": 2
}
