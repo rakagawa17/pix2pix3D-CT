{
 "cells": [
  {
   "cell_type": "code",
   "execution_count": null,
   "metadata": {},
   "outputs": [],
   "source": [
    "import os\n",
    "import pydicom\n",
    "import numpy as np\n",
    "from skimage.metrics import peak_signal_noise_ratio\n",
    "\n",
    "gt_folder = '/Users/ryotaroakagawa/pix2pix3D-CT/dicom/dataset01_test'\n",
    "# gene_folder = '/Users/ryotaroakagawa/pix2pix3D-CT/result/dataset01_test'\n",
    "gene_folder = '/Users/ryotaroakagawa/pix2pix3D-CT/dicom/dataset01_test'\n",
    "\n",
    "total_psnr = 0\n",
    "total_folders = 0\n",
    "\n",
    "case_folders = [folder for folder in sorted(os.listdir(gt_folder)) if 'case' in folder]\n",
    "\n",
    "for case_folder in case_folders:\n",
    "    gt_folder_path = os.path.join(gt_folder, case_folder, 'CT2')\n",
    "    gene_folder_path = os.path.join(gene_folder, case_folder, 'CT1')\n",
    "    # gene_folder_path = os.path.join(gene_folder, case_folder, 'dicom')\n",
    "    \n",
    "    gt_files = sorted(os.listdir(gt_folder_path))\n",
    "    gene_files = sorted(os.listdir(gene_folder_path))\n",
    "\n",
    "    case_psnr = 0\n",
    "\n",
    "    for file_path in gt_files:\n",
    "        gt_file_path = os.path.join(gt_folder_path, file_path)\n",
    "        gene_file_path = os.path.join(gene_folder_path, file_path)\n",
    "\n",
    "        gt_dicom = pydicom.dcmread(gt_file_path)\n",
    "        gene_dicom = pydicom.dcmread(gene_file_path)\n",
    "\n",
    "        # gt_array = gt_dicom.pixel_array * gt_dicom.RescaleSlope + gt_dicom.RescaleIntercept\n",
    "        # gene_array = gene_dicom.pixel_array * gene_dicom.RescaleSlope + gene_dicom.RescaleIntercept\n",
    "        gt_array = gt_dicom.pixel_array.astype(float)\n",
    "        gene_array = gene_dicom.pixel_array.astype(float)\n",
    "\n",
    "        # 画素値の範囲を手動で指定（16ビットの場合）\n",
    "        data_range = 2 ** gt_dicom.BitsStored - 1\n",
    "\n",
    "        psnr = peak_signal_noise_ratio(gt_array.flatten(), gene_array.flatten(), data_range=data_range)\n",
    "        \n",
    "        case_psnr += psnr\n",
    "\n",
    "    avg_case_psnr = case_psnr / len(gt_files)\n",
    "    total_psnr += avg_case_psnr\n",
    "    total_folders += 1  \n",
    "    print(f\"Case {case_folder}: PSNR = {avg_case_psnr}\")\n",
    "\n",
    "print('Average PSNR:', total_psnr / total_folders)\n"
   ]
  }
 ],
 "metadata": {
  "kernelspec": {
   "display_name": "base",
   "language": "python",
   "name": "python3"
  },
  "language_info": {
   "codemirror_mode": {
    "name": "ipython",
    "version": 3
   },
   "file_extension": ".py",
   "mimetype": "text/x-python",
   "name": "python",
   "nbconvert_exporter": "python",
   "pygments_lexer": "ipython3",
   "version": "3.9.7"
  },
  "orig_nbformat": 4,
  "vscode": {
   "interpreter": {
    "hash": "ccec245515a0799602d476777b92c9e9656b8fb27302e4e9be0613b23566699c"
   }
  }
 },
 "nbformat": 4,
 "nbformat_minor": 2
}
